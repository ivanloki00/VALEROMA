{
 "cells": [
  {
   "cell_type": "code",
   "execution_count": null,
   "id": "f47bad11",
   "metadata": {},
   "outputs": [],
   "source": [
    "# Step 1: Import necessary libraries\n",
    "import pandas as pd\n",
    "import numpy as np\n",
    "\n",
    "# Step 2: Load the dataset\n",
    "# Replace 'your_dataset.csv' with the path to your actual dataset file\n",
    "df = pd.read_csv('path/to/your_dataset.csv')\n",
    "\n",
    "# Step 3: Inspect the dataset for NaN values\n",
    "print(df.isna().sum())  # This will print the count of NaN values in each column\n",
    "\n",
    "# Step 4: Decide on a strategy for handling NaN values\n",
    "# This could involve:\n",
    "# - Dropping rows/columns with NaNs\n",
    "# - Filling NaNs with a specific value (e.g., 0, mean, median)\n",
    "# - Using more sophisticated imputation methods\n",
    "\n",
    "# Example: Filling NaN values in the 'budget' column with 0\n",
    "df['budget'] = df['budget'].fillna(0)\n",
    "\n",
    "# Alternatively, if you want to fill NaNs with the mean budget:\n",
    "# df['budget'] = df['budget'].fillna(df['budget'].mean())\n",
    "\n",
    "# Step 5: Verify the dataset after handling NaN values\n",
    "print(df.isna().sum())  # Check again to ensure no NaN values in 'budget' column\n",
    "\n",
    "# Step 6: Proceed with your analysis now that the NaN values have been handled\n"
   ]
  }
 ],
 "metadata": {
  "kernelspec": {
   "display_name": "Python 3 (ipykernel)",
   "language": "python",
   "name": "python3"
  },
  "language_info": {
   "codemirror_mode": {
    "name": "ipython",
    "version": 3
   },
   "file_extension": ".py",
   "mimetype": "text/x-python",
   "name": "python",
   "nbconvert_exporter": "python",
   "pygments_lexer": "ipython3",
   "version": "3.11.5"
  }
 },
 "nbformat": 4,
 "nbformat_minor": 5
}
