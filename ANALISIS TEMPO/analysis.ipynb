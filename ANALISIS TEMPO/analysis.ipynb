{
 "cells": [
  {
   "cell_type": "markdown",
   "metadata": {},
   "source": [
    "# IMPORTACION DE LAS LIBRERIAS "
   ]
  },
  {
   "cell_type": "markdown",
   "metadata": {},
   "source": [
    "Para trabajar con esta parte del proyecto necesitaremos importar algunas librerias, para poder trabajar mejor con los datos proporcionados."
   ]
  },
  {
   "cell_type": "code",
   "execution_count": null,
   "metadata": {},
   "outputs": [],
   "source": [
    "import pandas as pd\n",
    "import glob\n",
    "from sklearn.preprocessing import OneHotEncoder as OHE"
   ]
  },
  {
   "cell_type": "markdown",
   "metadata": {},
   "source": [
    "# Analisis deTiempo y Género."
   ]
  },
  {
   "cell_type": "markdown",
   "metadata": {},
   "source": [
    "Por otro lado en este notebook, nos enfocaremos en explorar y analizar las relaciones existentes entre dos variables específicas: **'release_year'** y **'gender_processed'**. Nuestro objetivo principal es observar cómo el paso del tiempo (indicado por la variable 'release_year') va afectando a los géneros (indicado por la variable 'gender_processed')."
   ]
  },
  {
   "cell_type": "markdown",
   "metadata": {},
   "source": [
    "Para llevar acabo este analisis debemos tener en cuenta varios pasos claves."
   ]
  },
  {
   "cell_type": "markdown",
   "metadata": {},
   "source": [
    "1.  **Encolumnar los géneros:** Primero, debemos añadir al dataset apartir de la columna 'gender_type' una nueva columna formada por filas de los géneros situados en cada fila. Esto lo haremos para que después en un futuro poder añadir con la libreria OneHotEncoder, columnas con el nombre de cada género que se completaran con unos y ceros según si la serie/película pertenece a ese género.\n",
    "    \n",
    "2.  **Limpieza y Preparación de Datos:** De seguido debemos de aseguraremos que el conjunto de datos esté limpio y listo para el análisis. Esto incluye eliminar las filas con valores nulos o cero en las variables 'release_year', ya que esto nos perjudicaria a la hora del analisis.\n",
    "    \n",
    "3. **Exploración de Datos:** Realizaremos una exploración inicial de los datos para entender la distribución de ambas variables, incluyendo estadísticas descriptivas como la media, mediana, desviación estándar, y la visualización a través de histogramas, diagramas de caja, o gráficos de densidad. Esto nos permitirá identificar tendencias generales, así como cualquier anomalía o dato atípico.\n",
    "    \n",
    "4.  **Visualización de Relaciones:** Para complementar nuestro análisis cuantitativo, crearemos visualizaciones como histogramas que nos permitan observar la relación entre el año y el género que más repetido, todo esto de una forma más intuitiva. Estas visualizaciones pueden ayudarnos a identificar patrones, tendencias o agrupaciones específicas dentro de los datos.\n",
    "    \n",
    "5.  **Interpretación y Conclusiones:** Finalmente, interpretaremos los resultados de nuestro análisis, tratando de extraer conclusiones sobre la relación entre el año de salida de una película y el género más repetido. Consideraremos en que año extrenaremos nuestra película, si existe algún patron que podamos seguir para ver que tipos de películas saldran ese año y que género nos interesa producir. También discutiremos las limitaciones de nuestro análisis y posibles pasos futuros para una investigación más profunda."
   ]
  },
  {
   "cell_type": "markdown",
   "metadata": {},
   "source": [
    "En primer lugar, llamaremos y leeremos el dataset df, esto lo haremos para poder trabajar con más facilidad. "
   ]
  },
  {
   "cell_type": "code",
   "execution_count": 3,
   "metadata": {},
   "outputs": [],
   "source": [
    "df = pd.read_csv(\"./all_streaming.csv\")"
   ]
  },
  {
   "cell_type": "markdown",
   "metadata": {},
   "source": [
    "A contiuación empezaremos a trabajar con el primer paso clave y pasaremos los datos de la coluna 'gender_type' a listas. Para ello utilizaremos estas funciones. "
   ]
  },
  {
   "cell_type": "code",
   "execution_count": null,
   "metadata": {},
   "outputs": [],
   "source": [
    "df[\"gender_type\"].to_numpy().tolist()\n",
    "a = df['gender_type'].str.split(', ')\n",
    "df[\"gender_processed\"] = a"
   ]
  },
  {
   "cell_type": "code",
   "execution_count": null,
   "metadata": {},
   "outputs": [],
   "source": [
    "enc = OHE()\n",
    "enc.fit_transform(df[\"gender_processed\"])"
   ]
  }
 ],
 "metadata": {
  "kernelspec": {
   "display_name": "Python 3 (ipykernel)",
   "language": "python",
   "name": "python3"
  },
  "language_info": {
   "codemirror_mode": {
    "name": "ipython",
    "version": 3
   },
   "file_extension": ".py",
   "mimetype": "text/x-python",
   "name": "python",
   "nbconvert_exporter": "python",
   "pygments_lexer": "ipython3",
   "version": "3.11.4"
  }
 },
 "nbformat": 4,
 "nbformat_minor": 2
}
